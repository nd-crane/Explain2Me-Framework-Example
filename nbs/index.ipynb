{
 "cells": [
  {
   "cell_type": "markdown",
   "metadata": {},
   "source": [
    "# nbdev-framework-example\n",
    "\n",
    "An example taking Lindsey Michie's FAA data science project and wrapping it with the best practices of the framework group, including documentation with nbdev."
   ]
  },
  {
   "cell_type": "markdown",
   "metadata": {},
   "source": [
    "## Getting Started"
   ]
  },
  {
   "cell_type": "markdown",
   "metadata": {},
   "source": [
    "### PDM\n",
    "> PDM, as described, is a modern Python package and dependency manager supporting the latest PEP standards. But it is more than a package manager. It boosts your development workflow in various aspects. The most significant benefit is it installs and manages packages in a similar way to npm that doesn't need to create a virtualenv at all!\n",
    ">\n",
    "> --- [PDM Documentation](https://pdm.fming.dev/latest/#introduction)"
   ]
  },
  {
   "cell_type": "markdown",
   "metadata": {},
   "source": [
    "#### Installation\n",
    "PDM should be installed as described in the [Installation instructions](https://pdm.fming.dev/latest/#recommended-installation-method)."
   ]
  },
  {
   "cell_type": "markdown",
   "metadata": {},
   "source": [
    "#### Initialization \n",
    "Once PDM is installed and configured, the project should be initialized by running the following command. This will ask a series of questions, where the defaults are usually safe, and produce a file called `pyproject.toml`.\n",
    "```bash\n",
    "pdm init\n",
    "```"
   ]
  },
  {
   "cell_type": "markdown",
   "metadata": {},
   "source": [
    "### Data Version Control (DVC)\n",
    "> DVC is built to make ML models shareable and reproducible. It is designed to handle large files, data sets, machine learning models, and metrics as well as code.\n",
    ">\n",
    "> --- [DVC Website](https://dvc.org/)"
   ]
  },
  {
   "cell_type": "markdown",
   "metadata": {},
   "source": [
    "#### Installation\n",
    "As we are using PDM for managing python dependencies of the project, we are able to add DVC by running `pdm add dvc`. This will add it to the `pyproject.toml` file and install it into the environment."
   ]
  },
  {
   "cell_type": "markdown",
   "metadata": {},
   "source": [
    "#### Initialization\n",
    "\n",
    "To add DVC to the project, we need to do a one time initialization by running `pdm run dvc init`. This will generate a `.dvc` directory which stores it's [internal files](https://dvc.org/doc/user-guide/project-structure/internal-files) as well as a files to DVC what files it should ignore."
   ]
  },
  {
   "cell_type": "markdown",
   "metadata": {},
   "source": [
    "### nbdev\n",
    "> nbdev is a notebook-driven development platform. Simply write notebooks with lightweight markup and get high-quality documentation, tests, continuous integration, and packaging for free!\n",
    ">\n",
    "> [nbdev Website](https://nbdev.fast.ai/getting_started.html)"
   ]
  },
  {
   "cell_type": "markdown",
   "metadata": {},
   "source": [
    "#### Installation\n",
    "As we are using nbdev for creating documentation automatically, we are able to add nbdev by running `pdm add nbdev`. This will add it to the `pyproject.toml` file and install it into the environment."
   ]
  },
  {
   "cell_type": "markdown",
   "metadata": {},
   "source": [
    "#### Initialization\n",
    "To add nbdev to the project, we need to do a one time initialzation by running `pdm run nbdev_new`.  This will create a `settings.ini` file with project settings, a `.github/workflows` directory containing workflows for package building and documentation deploying, and a `nbs` directory containing jupyter notebooks for project files.  These notebooks will be deployed as documentation pages using [Quarto](https://quarto.org/)"
   ]
  },
  {
   "cell_type": "markdown",
   "metadata": {},
   "source": [
    "#### Removing Packaging Feature (optional)\n",
    "If you are using nbdev for documentation only without the package creation feature you can follow these steps:\n",
    "1. Remove library files\n",
    "```bash\n",
    "rm setup.py .github/workflows/test.yaml nbs/00_core.ipynb\n",
    "```\n",
    "2. Remove you library folder (this will be the `lib_path` field in `settings.ini`)\n",
    "```bash\n",
    "rm -rf <lib_path>\n",
    "```"
   ]
  }
 ],
 "metadata": {
  "kernelspec": {
   "display_name": "Python 3",
   "language": "python",
   "name": "python3"
  },
  "language_info": {
   "codemirror_mode": {
    "name": "ipython",
    "version": 3
   },
   "file_extension": ".py",
   "mimetype": "text/x-python",
   "name": "python",
   "nbconvert_exporter": "python",
   "pygments_lexer": "ipython3",
   "version": "3.9.15"
  }
 },
 "nbformat": 4,
 "nbformat_minor": 4
}
