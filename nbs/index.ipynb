{
 "cells": [
  {
   "cell_type": "markdown",
   "metadata": {},
   "source": [
    "# Explain2Me-Framework-Example"
   ]
  },
  {
   "attachments": {},
   "cell_type": "markdown",
   "metadata": {},
   "source": [
    "> This repo showcases the *Explain Me This: Salience-Based Explainability for Synthetic Face Detection Models* research codebase bundled with the tools and best practices developed by the frameworks group."
   ]
  },
  {
   "attachments": {},
   "cell_type": "markdown",
   "metadata": {},
   "source": [
    "## Getting Started"
   ]
  },
  {
   "attachments": {},
   "cell_type": "markdown",
   "metadata": {},
   "source": [
    "To use this repo, clone it and run the following commands:\n",
    "\n",
    "```bash\n",
    "pdm install\n",
    "pdm run dvc repro\n",
    "```"
   ]
  },
  {
   "attachments": {},
   "cell_type": "markdown",
   "metadata": {},
   "source": [
    "Documentation can be contributed to by editing the `nbs/` files then running `pdm run nbdev_prepare`."
   ]
  },
  {
   "attachments": {},
   "cell_type": "markdown",
   "metadata": {},
   "source": [
    "## Frameworks Approach"
   ]
  },
  {
   "attachments": {},
   "cell_type": "markdown",
   "metadata": {},
   "source": [
    "The frameworks team has added the following tools for explainability and reproducability:\n",
    "\n",
    "- PDM: for python package management\n",
    "- DVC: for pipeline reproduceability\n",
    "- nbdev: for code explainability"
   ]
  },
  {
   "attachments": {},
   "cell_type": "markdown",
   "metadata": {},
   "source": [
    "### DVC Pipeline and Experiments"
   ]
  },
  {
   "attachments": {},
   "cell_type": "markdown",
   "metadata": {},
   "source": [
    "Rather than re-creating an entire DVC Pipeleine, the frameworks team focused in on `nbs/noise.ipynb` to display the DVC experiments feature to allow code iterataions from the CLI or vscode plugin.  To view the full configuration please view `dvc.yaml`.   "
   ]
  },
  {
   "attachments": {},
   "cell_type": "markdown",
   "metadata": {},
   "source": [
    "#### Running Experiments"
   ]
  },
  {
   "attachments": {},
   "cell_type": "markdown",
   "metadata": {},
   "source": [
    "Experiments can be run using the following methods:\n",
    "\n",
    "**Command Line Interface**\n",
    "\n",
    "Run the following command with the `-S` argument will run the pipeline with the specified parameters.\n",
    "\n",
    "```bash\n",
    "pdm run dvc exp run -S 'noise.amount=0.01'\n",
    "```\n",
    "\n",
    "**VSCode Plugin (Recommended)**\n",
    "\n",
    "The DVC plugin for VSCode can be installed to provide an IDE for running experiments, viewing plots, and changing parameters.\n",
    "Check out this quick tutorial for an overview [here](https://www.youtube.com/watch?v=LHi3SWGD9nc)."
   ]
  }
 ],
 "metadata": {
  "kernelspec": {
   "display_name": "Python 3",
   "language": "python",
   "name": "python3"
  },
  "language_info": {
   "codemirror_mode": {
    "name": "ipython",
    "version": 3
   },
   "file_extension": ".py",
   "mimetype": "text/x-python",
   "name": "python",
   "nbconvert_exporter": "python",
   "pygments_lexer": "ipython3",
   "version": "3.9.15"
  }
 },
 "nbformat": 4,
 "nbformat_minor": 4
}
