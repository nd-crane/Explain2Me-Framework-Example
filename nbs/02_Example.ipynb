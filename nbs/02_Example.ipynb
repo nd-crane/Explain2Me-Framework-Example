{
 "cells": [
  {
   "cell_type": "code",
   "execution_count": null,
   "id": "074a1a0b-bf64-46fa-89b2-5dffb9d2b7b1",
   "metadata": {},
   "outputs": [],
   "source": []
  }
 ],
 "metadata": {
  "kernelspec": {
   "display_name": "Python 3",
   "language": "python",
   "name": "python3"
  },
  "language_info": {
   "codemirror_mode": {
    "name": "ipython",
    "version": 3
   },
   "file_extension": ".py",
   "mimetype": "text/x-python",
   "name": "python",
   "nbconvert_exporter": "python",
   "pygments_lexer": "ipython3",
   "version": "3.9.15"
  }
 },
 "nbformat": 4,
 "nbformat_minor": 5
}
